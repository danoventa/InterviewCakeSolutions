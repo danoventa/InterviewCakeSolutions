{
 "cells": [
  {
   "cell_type": "code",
   "execution_count": null,
   "metadata": {
    "collapsed": false
   },
   "outputs": [],
   "source": [
    "# Merge cookie orders and enter as one\n",
    "# Order ID = int\n",
    "\n",
    "# given two lists, merge them. \n",
    "# assuming no negative numbers and lists not even\n",
    "\n",
    "test_1 = tuple(([2, 4, 5], [3, 6, 7, 8])) # intersect\n",
    "test_2 = tuple(([1, 2, 3, 4, 5], [6, 7, 8, 9, 10])) # in order\n",
    "test_3 = tuple(([10, 9, 8, 7, 6], [5, 4, 3, 2, 1])) # in descending order\n",
    "test_4 = tuple(([10, 4, 2, 1], [41, 5, 3, 9, 29])) # intersecting and various order\n",
    "test_5 = tuple(([1, 5, 2, 7, 9, 4], [23, 6, 2 , 8, 3])) # with collisions\n",
    "tests = [test_1, test_2, test_3, test_4, test_5]\n",
    "\n",
    "for test in tests:\n",
    "    print(\"Ours\\t\", test)\n",
    "    print(\"Mine\\t\", test[0])\n",
    "    print(\"Alice\\t\", test[1])\n",
    "    print(\"Expect:\\t\", sorted(test[0] + test[1]), '\\n')\n"
   ]
  },
  {
   "cell_type": "code",
   "execution_count": null,
   "metadata": {
    "collapsed": false
   },
   "outputs": [],
   "source": [
    "def merge_lists_brute(list1, list2):\n",
    "    end = list1 + list2\n",
    "    isSorted = False\n",
    "    i = 0\n",
    "    \n",
    "    test = sorted(end)\n",
    "    \n",
    "    while not isSorted:\n",
    "        \n",
    "        if i >= len(end) - 1:\n",
    "            if end == test:\n",
    "                isSorted = True\n",
    "            i = 0\n",
    "        \n",
    "        print(i)\n",
    "        if end[i] < end[i+1]:\n",
    "            temp = end[i]\n",
    "            end[i] = end[i+1]\n",
    "            end[i+1] = temp\n",
    "        \n",
    "        i += 1\n",
    "        \n",
    "        \n",
    "    print(end)\n",
    "    "
   ]
  },
  {
   "cell_type": "code",
   "execution_count": null,
   "metadata": {
    "collapsed": false
   },
   "outputs": [],
   "source": [
    "for test in tests:\n",
    "    merge_lists_brute(test[0], test[1])"
   ]
  },
  {
   "cell_type": "code",
   "execution_count": null,
   "metadata": {
    "collapsed": true
   },
   "outputs": [],
   "source": []
  }
 ],
 "metadata": {
  "kernelspec": {
   "display_name": "Python [conda root]",
   "language": "python",
   "name": "conda-root-py"
  },
  "language_info": {
   "codemirror_mode": {
    "name": "ipython",
    "version": 3
   },
   "file_extension": ".py",
   "mimetype": "text/x-python",
   "name": "python",
   "nbconvert_exporter": "python",
   "pygments_lexer": "ipython3",
   "version": "3.5.2"
  }
 },
 "nbformat": 4,
 "nbformat_minor": 1
}
