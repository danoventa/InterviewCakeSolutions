{
 "cells": [
  {
   "cell_type": "code",
   "execution_count": 19,
   "metadata": {
    "collapsed": true
   },
   "outputs": [],
   "source": [
    "from collections import defaultdict\n",
    "\n",
    "prices = [10, 3, 5, 4, 3, 2]"
   ]
  },
  {
   "cell_type": "code",
   "execution_count": null,
   "metadata": {
    "collapsed": false
   },
   "outputs": [],
   "source": []
  },
  {
   "cell_type": "code",
   "execution_count": 82,
   "metadata": {
    "collapsed": false
   },
   "outputs": [],
   "source": [
    "def most_profit(prices = []):\n",
    "    \n",
    "    if len(prices) < 2:\n",
    "        return 0\n",
    "    \n",
    "    mina = prices[0]\n",
    "    mini = prices[0]\n",
    "    maxa = 0\n",
    "    smaxa = 0\n",
    "    maxi = 0\n",
    "    minda = 0\n",
    "    inda = 0\n",
    "    \n",
    "    for price in prices:\n",
    "        if price < mina:\n",
    "            mina = price\n",
    "            minda = inda\n",
    "            maxa = 0\n",
    "        elif price > maxa and minda < inda:\n",
    "            smaxa = maxa\n",
    "            maxa = price\n",
    "        else: \n",
    "            smina = price\n",
    "        \n",
    "        if maxa - mina > maxi:\n",
    "            maxi = maxa - mina\n",
    "        if mina - maxa < mini:\n",
    "            mini = mina - maxa\n",
    "    \n",
    "            \n",
    "        inda += 1\n",
    "    print(prices)\n",
    "    print(\"maxa: \", maxa, \"mina:\", mina, 'maxi:', maxi)\n",
    "    if maxi == 0:\n",
    "        return mini\n",
    "    return maxi\n",
    "        \n",
    "        "
   ]
  },
  {
   "cell_type": "code",
   "execution_count": 83,
   "metadata": {
    "collapsed": false
   },
   "outputs": [
    {
     "name": "stdout",
     "output_type": "stream",
     "text": [
      "[2, 5, 13, 13, 14, 5, 11, 3, 1, 2, 0, 7, 7, 0, 1]\n",
      "maxa:  7 mina: 0 maxi: 12\n"
     ]
    },
    {
     "data": {
      "text/plain": [
       "12"
      ]
     },
     "execution_count": 83,
     "metadata": {},
     "output_type": "execute_result"
    }
   ],
   "source": [
    "most_profit(prices)"
   ]
  },
  {
   "cell_type": "code",
   "execution_count": 88,
   "metadata": {
    "collapsed": false
   },
   "outputs": [
    {
     "name": "stdout",
     "output_type": "stream",
     "text": [
      "[15, 4, 2, 8, 8, 10, 9, 14, 7, 12, 12]\n",
      "maxa:  14 mina: 2 maxi: 12\n",
      "12\n",
      "[5, 0, 10, 10, 5, 14, 5, 6, 13, 12, 14, 10]\n",
      "maxa:  14 mina: 0 maxi: 14\n",
      "14\n",
      "[13, 1, 8, 9, 10, 8, 8, 7, 7, 5, 2, 12, 11, 6, 12]\n",
      "maxa:  12 mina: 1 maxi: 11\n",
      "11\n",
      "[4, 14, 2, 12, 6, 1]\n",
      "maxa:  0 mina: 1 maxi: 10\n",
      "10\n",
      "[6, 9, 10, 11, 1, 10, 7, 11]\n",
      "maxa:  11 mina: 1 maxi: 10\n",
      "10\n",
      "[5, 0, 11, 7]\n",
      "maxa:  11 mina: 0 maxi: 11\n",
      "11\n",
      "[10, 4, 12, 7, 10, 2, 15, 4, 2, 9, 5]\n",
      "maxa:  15 mina: 2 maxi: 13\n",
      "13\n",
      "[8, 4, 4, 6]\n",
      "maxa:  6 mina: 4 maxi: 2\n",
      "2\n",
      "[15, 13, 12, 5, 4, 13, 2, 2]\n",
      "maxa:  2 mina: 2 maxi: 9\n",
      "9\n",
      "[13, 9]\n",
      "maxa:  0 mina: 9 maxi: 0\n",
      "9\n",
      "[10, 1, 4, 3, 2, 3, 10, 2, 4, 15, 12, 12, 12, 12]\n",
      "maxa:  15 mina: 1 maxi: 14\n",
      "14\n",
      "[3, 14, 0, 5, 9, 2, 7, 1, 1, 15, 6, 14, 7]\n",
      "maxa:  15 mina: 0 maxi: 15\n",
      "15\n",
      "[5, 4, 0, 4, 11, 1, 13, 11, 6]\n",
      "maxa:  13 mina: 0 maxi: 13\n",
      "13\n",
      "[0, 1, 1, 2]\n",
      "maxa:  2 mina: 0 maxi: 2\n",
      "2\n",
      "[1, 13, 10, 0, 8, 14, 2]\n",
      "maxa:  14 mina: 0 maxi: 14\n",
      "14\n",
      "[10, 10, 10]\n",
      "maxa:  10 mina: 10 maxi: 0\n",
      "0\n"
     ]
    }
   ],
   "source": [
    "import random \n",
    "\n",
    "def random_prices_test():\n",
    "    prices = []\n",
    "    size = 0\n",
    "\n",
    "    #There is a risk of an infinite loop, though greatly improbable ;)\n",
    "    while size < 2:\n",
    "        size = random.randrange(16)\n",
    "\n",
    "    for n in range(size):\n",
    "        prices.append(random.randrange(16))\n",
    "    \n",
    "    return prices\n",
    "\n",
    "for i in range(16):\n",
    "    print(most_profit(random_prices_test()))"
   ]
  },
  {
   "cell_type": "code",
   "execution_count": null,
   "metadata": {
    "collapsed": true
   },
   "outputs": [],
   "source": []
  },
  {
   "cell_type": "code",
   "execution_count": null,
   "metadata": {
    "collapsed": true
   },
   "outputs": [],
   "source": []
  }
 ],
 "metadata": {
  "anaconda-cloud": {},
  "kernelspec": {
   "display_name": "Python [conda root]",
   "language": "python",
   "name": "conda-root-py"
  },
  "language_info": {
   "codemirror_mode": {
    "name": "ipython",
    "version": 3
   },
   "file_extension": ".py",
   "mimetype": "text/x-python",
   "name": "python",
   "nbconvert_exporter": "python",
   "pygments_lexer": "ipython3",
   "version": "3.5.2"
  }
 },
 "nbformat": 4,
 "nbformat_minor": 1
}
