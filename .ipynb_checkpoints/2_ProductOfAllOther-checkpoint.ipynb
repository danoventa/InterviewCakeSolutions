{
 "cells": [
  {
   "cell_type": "code",
   "execution_count": 10,
   "metadata": {
    "collapsed": false
   },
   "outputs": [],
   "source": [
    "def get_products_of_all_ints_except_at_index_brute(numbers):\n",
    "    # take list of numbers, and expect them to be the product of all others except for that one\n",
    "    # if mult by 1, don't count\n",
    "    # if zero all zero\n",
    "    # brute force\n",
    "    products = []\n",
    "    \n",
    "    for i in range(len(numbers)):\n",
    "        products.append(1)\n",
    "        for n in range(len(numbers)):\n",
    "            if n != i:\n",
    "                products[i] *= numbers[n]\n",
    "                \n",
    "    print(products)    "
   ]
  },
  {
   "cell_type": "code",
   "execution_count": 12,
   "metadata": {
    "collapsed": false
   },
   "outputs": [
    {
     "name": "stdout",
     "output_type": "stream",
     "text": [
      "[24, 0, 0, 0]\n"
     ]
    }
   ],
   "source": [
    "get_products_of_all_ints_except_at_index_brute([0, 2, 3, 4])"
   ]
  },
  {
   "cell_type": "code",
   "execution_count": 26,
   "metadata": {
    "collapsed": false
   },
   "outputs": [],
   "source": [
    "def get_products_of_all_ints_except_at_index_smarter(numbers):\n",
    "    before = []\n",
    "    leng = len(numbers)\n",
    "    after = [None] * leng\n",
    "    for i in range(len(numbers)):\n",
    "        if i > 0:\n",
    "            before.append(numbers[i] * before[i-1])\n",
    "            \n",
    "        else:\n",
    "            before.append(1)\n",
    "         \n",
    "        if i < leng:\n",
    "            after[i] = (numbers[(leng - 1 - i)] * after[i - 1])            \n",
    "        else:\n",
    "            after[i] = (1)\n",
    "\n",
    "        \n",
    "    print(numbers)\n",
    "    print(before)\n",
    "    print(after)"
   ]
  },
  {
   "cell_type": "code",
   "execution_count": 29,
   "metadata": {
    "collapsed": false
   },
   "outputs": [
    {
     "name": "stdout",
     "output_type": "stream",
     "text": [
      "[2, 4, 10]\n",
      "[1, 4, 40]\n",
      "[1, 4, 8]\n"
     ]
    }
   ],
   "source": [
    "get_products_of_all_ints_except_at_index_smarter([2, 4, 10])"
   ]
  },
  {
   "cell_type": "code",
   "execution_count": null,
   "metadata": {
    "collapsed": true
   },
   "outputs": [],
   "source": []
  }
 ],
 "metadata": {
  "anaconda-cloud": {},
  "kernelspec": {
   "display_name": "Python [conda root]",
   "language": "python",
   "name": "conda-root-py"
  },
  "language_info": {
   "codemirror_mode": {
    "name": "ipython",
    "version": 3
   },
   "file_extension": ".py",
   "mimetype": "text/x-python",
   "name": "python",
   "nbconvert_exporter": "python",
   "pygments_lexer": "ipython3",
   "version": "3.5.2"
  }
 },
 "nbformat": 4,
 "nbformat_minor": 1
}
