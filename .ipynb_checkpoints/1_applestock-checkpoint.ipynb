{
 "cells": [
  {
   "cell_type": "code",
   "execution_count": 121,
   "metadata": {
    "collapsed": false
   },
   "outputs": [],
   "source": [
    "# tading stock to make you rich! :P \n",
    "# We're accessing stock from yesterday. Index indicates time passing.\n",
    "# We want to know the best possible profit we could've made from yesterday's \n",
    "# stock, with at least one buy, and one sell. If all numbers are easy, no sells. \n",
    "\n",
    "sp_inc = [1, 2, 3, 3, 4, 5, 6, 7, 8] # expect output of 7\n",
    "sp_vary = [1, 2, 6, 7, 2, 7, 4, 9, 0] # expect ouput of 8\n",
    "sp_drop = [8, 7, 5, 3, 2, 1, 0] # expect output of -1\n",
    "sp_static = [5, 5, 5, 5, 5, 5, 5] # expect output of 0\n",
    "sp_end = [14, 7, 8] # expect ouput of 1\n",
    "sp_sep = [4, 7, 9, 9, 6, 2, 6] # expect output of 5\n",
    "\n",
    "sp_tests = [sp_inc, sp_vary, sp_drop, sp_static, sp_end, sp_sep]"
   ]
  },
  {
   "cell_type": "code",
   "execution_count": 122,
   "metadata": {
    "collapsed": false
   },
   "outputs": [],
   "source": [
    "# Random test generator, to do redundant tests\n",
    "\n",
    "import random \n",
    "\n",
    "def random_prices_test():\n",
    "    prices = []\n",
    "    size = 0\n",
    "\n",
    "    #There is a risk of an infinite loop, though greatly improbable ;)\n",
    "    while size < 2:\n",
    "        size = random.randrange(16)\n",
    "\n",
    "    for n in range(size):\n",
    "        prices.append(random.randrange(16))\n",
    "    \n",
    "    return prices"
   ]
  },
  {
   "cell_type": "code",
   "execution_count": 144,
   "metadata": {
    "collapsed": false
   },
   "outputs": [],
   "source": [
    "def max_profit_brute(stocks):\n",
    "    \n",
    "    s_max = stocks[0]\n",
    "    s_min = stocks[0]\n",
    "    s_smin = stocks[0]\n",
    "    \n",
    "    num_stocks = len(stocks)\n",
    "    max_profit = []\n",
    "\n",
    "    print(stocks)\n",
    "    for stock in range(num_stocks):\n",
    "        \n",
    "        if stocks[stock] < s_min and  stock < (num_stocks - 1):\n",
    "            s_smin = s_min\n",
    "            s_min = stocks[stock]\n",
    "            s_max = stocks[stock]\n",
    "            max_profit.append(s_max - s_smin)\n",
    "            max_profit.append(s_max - s_min)\n",
    "            \n",
    "        if stocks[stock] > s_max:\n",
    "            s_max = stocks[stock]\n",
    "            \n",
    "    print(max_profit)\n",
    "    if(len(max_profit) > 0):    \n",
    "        print(max(max_profit))\n",
    "    else:(print('0'))\n",
    "\n"
   ]
  },
  {
   "cell_type": "code",
   "execution_count": 145,
   "metadata": {
    "collapsed": false
   },
   "outputs": [
    {
     "name": "stdout",
     "output_type": "stream",
     "text": [
      "[1, 2, 3, 3, 4, 5, 6, 7, 8]\n",
      "[1, 2, 3, 4, 5, 6, 7]\n",
      "7\n",
      "[1, 2, 6, 7, 2, 7, 4, 9, 0]\n",
      "[1, 5, 6, 8]\n",
      "8\n",
      "[8, 7, 5, 3, 2, 1, 0]\n",
      "[-1, 0, -2, 0, -2, 0, -1, 0, -1, 0]\n",
      "0\n",
      "[5, 5, 5, 5, 5, 5, 5]\n",
      "[]\n",
      "0\n",
      "[14, 7, 8]\n",
      "[-7, 0, 1]\n",
      "1\n",
      "[4, 7, 9, 9, 6, 2, 6]\n",
      "[3, 5, -2, 0, 4]\n",
      "5\n"
     ]
    }
   ],
   "source": [
    "for test in sp_tests:\n",
    "    max_profit_brute(test)"
   ]
  },
  {
   "cell_type": "code",
   "execution_count": 118,
   "metadata": {
    "collapsed": false
   },
   "outputs": [
    {
     "name": "stdout",
     "output_type": "stream",
     "text": [
      "[4, 7, 9, 9, 6, 2, 6]\n",
      "2\n",
      "[13, 2, 8, 10, 14, 0, 0, 5, 9, 12]\n",
      "10\n",
      "[8, 4, 6, 1, 15, 0, 15, 2, 8, 6, 0, 7, 1]\n",
      "14\n",
      "[14, 7, 8]\n",
      "-6\n",
      "[0, 11, 1, 12, 10, 7, 0, 4, 3, 0]\n",
      "12\n"
     ]
    }
   ],
   "source": [
    "for i in range(5):\n",
    "    test_stocks = random_prices_test()\n",
    "    print(test_stocks)\n",
    "    max_profit_brute(test_stocks)"
   ]
  },
  {
   "cell_type": "code",
   "execution_count": null,
   "metadata": {
    "collapsed": true
   },
   "outputs": [],
   "source": [
    "# Interesting cases found in random: \n",
    "tests = []\n",
    "\n"
   ]
  },
  {
   "cell_type": "code",
   "execution_count": null,
   "metadata": {
    "collapsed": true
   },
   "outputs": [],
   "source": []
  }
 ],
 "metadata": {
  "anaconda-cloud": {},
  "kernelspec": {
   "display_name": "Python [conda root]",
   "language": "python",
   "name": "conda-root-py"
  },
  "language_info": {
   "codemirror_mode": {
    "name": "ipython",
    "version": 3
   },
   "file_extension": ".py",
   "mimetype": "text/x-python",
   "name": "python",
   "nbconvert_exporter": "python",
   "pygments_lexer": "ipython3",
   "version": "3.5.2"
  }
 },
 "nbformat": 4,
 "nbformat_minor": 1
}
