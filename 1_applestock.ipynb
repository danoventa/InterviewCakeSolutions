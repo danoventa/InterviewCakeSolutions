{
 "cells": [
  {
   "cell_type": "code",
   "execution_count": 207,
   "metadata": {
    "collapsed": false
   },
   "outputs": [],
   "source": [
    "# tading stock to make you rich! :P \n",
    "# We're accessing stock from yesterday. Index indicates time passing.\n",
    "# We want to know the best possible profit we could've made from yesterday's \n",
    "# stock, with at least one buy, and one sell. If all numbers are easy, no sells. \n",
    "\n",
    "sp_inc = [1, 2, 3, 3, 4, 5, 6, 7, 8] # expect output of 7\n",
    "sp_vary = [1, 2, 6, 7, 2, 7, 4, 9, 0] # expect ouput of 8\n",
    "sp_drop = [8, 7, 5, 3, 2, 1, 0] # expect output of -1\n",
    "sp_static = [5, 5, 5, 5, 5, 5, 5] # expect output of 0\n",
    "sp_end = [14, 7, 8] # expect ouput of 1\n",
    "sp_sep = [4, 7, 9, 9, 6, 2, 6] # expect output of 5\n",
    "sp_min = [10, 1] # expect output of -9\n",
    "\n",
    "sp_tests = [sp_inc, sp_vary, sp_drop, sp_static, sp_end, sp_sep, sp_min]"
   ]
  },
  {
   "cell_type": "code",
   "execution_count": 227,
   "metadata": {
    "collapsed": false
   },
   "outputs": [],
   "source": [
    "# Random test generator, to do redundant tests\n",
    "\n",
    "import random \n",
    "\n",
    "def random_prices_test():\n",
    "    prices = []\n",
    "    size = 0\n",
    "\n",
    "    #There is a risk of an infinite loop, though greatly improbable ;)\n",
    "    while size < 2:\n",
    "        size = random.randrange(5)\n",
    "\n",
    "    for n in range(size):\n",
    "        prices.append(random.randrange(16))\n",
    "    \n",
    "    return prices"
   ]
  },
  {
   "cell_type": "code",
   "execution_count": 231,
   "metadata": {
    "collapsed": false
   },
   "outputs": [],
   "source": [
    "def max_profit_first(stocks):\n",
    "    \n",
    "    s_max = stocks[0]\n",
    "    s_min = stocks[0]\n",
    "    s_smin = stocks[0]\n",
    "    \n",
    "    num_stocks = len(stocks)\n",
    "    max_profit = []\n",
    "\n",
    "    for stock in range(num_stocks):\n",
    "        \n",
    "        if stocks[stock] < s_min and  stock < (num_stocks):\n",
    "            s_smin = s_min\n",
    "            s_min = stocks[stock]\n",
    "            s_max = stocks[stock]\n",
    "            if(s_max != s_smin):\n",
    "                max_profit.append(s_max - s_smin)\n",
    "            if(s_max != s_min):\n",
    "                max_profit.append(s_max - s_min)\n",
    "            \n",
    "        if stocks[stock] > s_max:\n",
    "            s_max = stocks[stock]\n",
    "            max_profit.append(s_max - s_min)\n",
    "            \n",
    "    if(len(max_profit) > 0):    \n",
    "        print(max(max_profit))\n",
    "    else:\n",
    "        (print('0'))\n",
    "\n",
    "# we can still improve the memory usage."
   ]
  },
  {
   "cell_type": "code",
   "execution_count": 232,
   "metadata": {
    "collapsed": false
   },
   "outputs": [
    {
     "name": "stdout",
     "output_type": "stream",
     "text": [
      "7\n",
      "8\n",
      "-1\n",
      "0\n",
      "1\n",
      "5\n",
      "-9\n"
     ]
    }
   ],
   "source": [
    "for test in sp_tests:\n",
    "    max_profit_first(test)"
   ]
  },
  {
   "cell_type": "code",
   "execution_count": 234,
   "metadata": {
    "collapsed": false
   },
   "outputs": [
    {
     "name": "stdout",
     "output_type": "stream",
     "text": [
      "[11, 2, 11, 2]\n",
      "9\n",
      "[12, 5, 5, 14]\n",
      "9\n",
      "[11, 5, 4, 0]\n",
      "-1\n",
      "[8, 9, 4]\n",
      "1\n",
      "[11, 13, 15]\n",
      "4\n"
     ]
    }
   ],
   "source": [
    "for i in range(5):\n",
    "    test_stocks = random_prices_test()\n",
    "    print(test_stocks)\n",
    "    max_profit_first(test_stocks)"
   ]
  },
  {
   "cell_type": "code",
   "execution_count": 304,
   "metadata": {
    "collapsed": false
   },
   "outputs": [],
   "source": [
    "def max_profit_second(stocks):\n",
    "    \n",
    "    s_max = stocks[0]\n",
    "    s_min = stocks[0]\n",
    "    s_smin = stocks[0]\n",
    "    \n",
    "    num_stocks = len(stocks)\n",
    "    max_profit = None\n",
    "\n",
    "    for stock in range(num_stocks):\n",
    "        \n",
    "        if stocks[stock] < s_min and  stock < num_stocks:\n",
    "            s_smin = s_min\n",
    "            s_min = stocks[stock]\n",
    "            s_max = stocks[stock]\n",
    "            \n",
    "            if(s_max != s_smin):\n",
    "\n",
    "                if(max_profit == None):\n",
    "                    max_profit = s_max - s_smin\n",
    "                elif(s_max-s_smin > max_profit):\n",
    "                    max_profit = s_max - s_smin\n",
    "            if(s_max != s_min):  \n",
    "                if(s_max - s_min > max_profit):\n",
    "                    max_profit = s_max - s_min\n",
    "            \n",
    "        if stocks[stock] > s_max:\n",
    "            s_max = stocks[stock]\n",
    "            if(max_profit == None):\n",
    "                max_profit = s_max - s_min\n",
    "            elif(max_profit and s_max - s_min > max_profit):\n",
    "                max_profit = s_max - s_min\n",
    "            \n",
    "    if(max_profit == None):\n",
    "        max_profit = 0\n",
    "    print(\"Max profit: \", max_profit)\n",
    "\n",
    "# Reduced the space complexity to O(n) time complexity preserved at O(n)"
   ]
  },
  {
   "cell_type": "code",
   "execution_count": 305,
   "metadata": {
    "collapsed": false
   },
   "outputs": [
    {
     "name": "stdout",
     "output_type": "stream",
     "text": [
      "Max profit:  7\n",
      "Max profit:  8\n",
      "Max profit:  -1\n",
      "Max profit:  0\n",
      "Max profit:  1\n",
      "Max profit:  5\n",
      "Max profit:  -9\n"
     ]
    }
   ],
   "source": [
    "for test in sp_tests:\n",
    "    max_profit_second(test)"
   ]
  },
  {
   "cell_type": "code",
   "execution_count": 306,
   "metadata": {
    "collapsed": false
   },
   "outputs": [
    {
     "name": "stdout",
     "output_type": "stream",
     "text": [
      "[9, 8]\n",
      "Max profit:  -1\n",
      "[8, 15, 8]\n",
      "Max profit:  7\n",
      "[1, 1, 7]\n",
      "Max profit:  6\n",
      "[7, 14, 4]\n",
      "Max profit:  7\n",
      "[6, 14, 8]\n",
      "Max profit:  8\n"
     ]
    }
   ],
   "source": [
    "for i in range(5):\n",
    "    test_stocks = random_prices_test()\n",
    "    print(test_stocks)\n",
    "    max_profit_second(test_stocks)"
   ]
  },
  {
   "cell_type": "code",
   "execution_count": null,
   "metadata": {
    "collapsed": true
   },
   "outputs": [],
   "source": []
  }
 ],
 "metadata": {
  "anaconda-cloud": {},
  "kernelspec": {
   "display_name": "Python [conda root]",
   "language": "python",
   "name": "conda-root-py"
  },
  "language_info": {
   "codemirror_mode": {
    "name": "ipython",
    "version": 3
   },
   "file_extension": ".py",
   "mimetype": "text/x-python",
   "name": "python",
   "nbconvert_exporter": "python",
   "pygments_lexer": "ipython3",
   "version": "3.5.2"
  }
 },
 "nbformat": 4,
 "nbformat_minor": 1
}
