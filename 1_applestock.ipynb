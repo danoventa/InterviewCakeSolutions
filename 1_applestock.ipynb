{
 "cells": [
  {
   "cell_type": "code",
   "execution_count": 19,
   "metadata": {
    "collapsed": true
   },
   "outputs": [],
   "source": [
    "from collections import defaultdict\n",
    "\n",
    "prices = [10, 3, 5, 4, 3, 2]"
   ]
  },
  {
   "cell_type": "code",
   "execution_count": null,
   "metadata": {
    "collapsed": false
   },
   "outputs": [],
   "source": []
  },
  {
   "cell_type": "code",
   "execution_count": 57,
   "metadata": {
    "collapsed": false
   },
   "outputs": [],
   "source": [
    "def most_profit(prices = []):\n",
    "    \n",
    "    if len(prices) < 2:\n",
    "        return 0\n",
    "    \n",
    "    mina = prices[0]\n",
    "    maxa = 0\n",
    "    smaxa = 0\n",
    "    maxi = 0\n",
    "    minda = 0\n",
    "    inda = 0\n",
    "    \n",
    "    for price in prices:\n",
    "        if price < mina:\n",
    "            mina = price\n",
    "            minda = inda\n",
    "        elif price > maxa and minda < inda:\n",
    "            smaxa = maxa\n",
    "            maxa = price\n",
    "            \n",
    "        \n",
    "        if maxa - mina > maxi:\n",
    "            maxi = maxa - mina\n",
    "    \n",
    "            \n",
    "        inda += 1\n",
    "    print(prices)\n",
    "    print(\"maxa: \", maxa, \"mina:\", mina, 'maxi:', maxi)\n",
    "    \n",
    "    return maxi\n",
    "        \n",
    "        "
   ]
  },
  {
   "cell_type": "code",
   "execution_count": 58,
   "metadata": {
    "collapsed": false
   },
   "outputs": [
    {
     "name": "stdout",
     "output_type": "stream",
     "text": [
      "[2, 5, 13, 13, 14, 5, 11, 3, 1, 2, 0, 7, 7, 0, 1]\n",
      "maxa:  14 mina: 0 maxi: 14\n"
     ]
    },
    {
     "data": {
      "text/plain": [
       "14"
      ]
     },
     "execution_count": 58,
     "metadata": {},
     "output_type": "execute_result"
    }
   ],
   "source": [
    "most_profit(prices)"
   ]
  },
  {
   "cell_type": "code",
   "execution_count": 59,
   "metadata": {
    "collapsed": false
   },
   "outputs": [
    {
     "name": "stdout",
     "output_type": "stream",
     "text": [
      "[4, 7, 11, 11, 3]\n",
      "maxa:  11 mina: 3 maxi: 8\n",
      "8\n",
      "[9, 1]\n",
      "maxa:  0 mina: 1 maxi: 0\n",
      "0\n",
      "[13, 7, 7, 2, 6, 4, 11, 2, 13, 5]\n",
      "maxa:  13 mina: 2 maxi: 11\n",
      "11\n",
      "[0, 10, 10, 2, 8]\n",
      "maxa:  10 mina: 0 maxi: 10\n",
      "10\n",
      "[9, 12, 14, 6, 1, 15, 14, 10, 12, 11, 13, 3]\n",
      "maxa:  15 mina: 1 maxi: 14\n",
      "14\n",
      "[5, 3, 13, 3, 13, 11, 3, 11, 13]\n",
      "maxa:  13 mina: 3 maxi: 10\n",
      "10\n",
      "[1, 0, 6, 13, 9, 0, 2]\n",
      "maxa:  13 mina: 0 maxi: 13\n",
      "13\n",
      "[6, 9, 2, 2, 12, 4, 11, 7, 6, 3, 12, 14, 5, 8]\n",
      "maxa:  14 mina: 2 maxi: 12\n",
      "12\n",
      "[10, 14, 5, 12]\n",
      "maxa:  14 mina: 5 maxi: 9\n",
      "9\n",
      "[2, 0, 10, 6, 8, 10]\n",
      "maxa:  10 mina: 0 maxi: 10\n",
      "10\n",
      "[15, 10, 3, 12, 3, 10, 6, 8, 9, 7, 10, 11, 13, 12]\n",
      "maxa:  13 mina: 3 maxi: 10\n",
      "10\n",
      "[8, 3, 9, 3, 7, 11, 9, 9, 13, 0, 6, 4, 12]\n",
      "maxa:  13 mina: 0 maxi: 13\n",
      "13\n",
      "[7, 0, 5, 6, 14, 8, 10, 12, 14, 10, 12, 14, 8, 0, 12]\n",
      "maxa:  14 mina: 0 maxi: 14\n",
      "14\n",
      "[1, 7, 6, 13, 12, 12, 10, 0, 3, 4]\n",
      "maxa:  13 mina: 0 maxi: 13\n",
      "13\n",
      "[1, 15, 14, 2]\n",
      "maxa:  15 mina: 1 maxi: 14\n",
      "14\n",
      "[15, 0, 8, 12, 10, 13, 9, 0, 12, 3, 10]\n",
      "maxa:  13 mina: 0 maxi: 13\n",
      "13\n"
     ]
    }
   ],
   "source": [
    "import random \n",
    "\n",
    "def random_prices_test():\n",
    "    prices = []\n",
    "    size = 0\n",
    "\n",
    "    #There is a risk of an infinite loop, though greatly improbable ;)\n",
    "    while size < 2:\n",
    "        size = random.randrange(16)\n",
    "\n",
    "    for n in range(size):\n",
    "        prices.append(random.randrange(16))\n",
    "    \n",
    "    return prices\n",
    "\n",
    "for i in range(16):\n",
    "    print(most_profit(random_prices_test()))"
   ]
  },
  {
   "cell_type": "code",
   "execution_count": null,
   "metadata": {
    "collapsed": true
   },
   "outputs": [],
   "source": []
  },
  {
   "cell_type": "code",
   "execution_count": null,
   "metadata": {
    "collapsed": true
   },
   "outputs": [],
   "source": []
  }
 ],
 "metadata": {
  "anaconda-cloud": {},
  "kernelspec": {
   "display_name": "Python [conda root]",
   "language": "python",
   "name": "conda-root-py"
  },
  "language_info": {
   "codemirror_mode": {
    "name": "ipython",
    "version": 3
   },
   "file_extension": ".py",
   "mimetype": "text/x-python",
   "name": "python",
   "nbconvert_exporter": "python",
   "pygments_lexer": "ipython3",
   "version": "3.5.2"
  }
 },
 "nbformat": 4,
 "nbformat_minor": 1
}
