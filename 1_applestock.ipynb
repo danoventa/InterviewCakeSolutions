{
 "cells": [
  {
   "cell_type": "code",
   "execution_count": 21,
   "metadata": {
    "collapsed": true
   },
   "outputs": [],
   "source": [
    "from collections import defaultdict\n",
    "\n",
    "prices = [10, 7, 5, 4, 3, 2]\n",
    "mina = 100\n",
    "maxa = 0\n",
    "inda = 0\n",
    "minda = 0\n",
    "neg = False\n",
    "maxda = 0"
   ]
  },
  {
   "cell_type": "code",
   "execution_count": 23,
   "metadata": {
    "collapsed": false
   },
   "outputs": [
    {
     "name": "stdout",
     "output_type": "stream",
     "text": [
      "8\n"
     ]
    }
   ],
   "source": [
    "# this needs refactoring... case missed is for negative numbers :(\n",
    "for price in prices:\n",
    "    \n",
    "    if price < mina:\n",
    "        mina = price\n",
    "        minda = inda\n",
    "    elif abs(price) > maxa and minda < inda:\n",
    "        if(price/abs(price) == -1):\n",
    "            neg = True\n",
    "        maxa = abs(price)\n",
    "    \n",
    "    inda += 1\n",
    "\n",
    "print(maxa - mina)"
   ]
  },
  {
   "cell_type": "code",
   "execution_count": null,
   "metadata": {
    "collapsed": true
   },
   "outputs": [],
   "source": []
  }
 ],
 "metadata": {
  "anaconda-cloud": {},
  "kernelspec": {
   "display_name": "Python [conda root]",
   "language": "python",
   "name": "conda-root-py"
  },
  "language_info": {
   "codemirror_mode": {
    "name": "ipython",
    "version": 3
   },
   "file_extension": ".py",
   "mimetype": "text/x-python",
   "name": "python",
   "nbconvert_exporter": "python",
   "pygments_lexer": "ipython3",
   "version": "3.5.2"
  }
 },
 "nbformat": 4,
 "nbformat_minor": 1
}
