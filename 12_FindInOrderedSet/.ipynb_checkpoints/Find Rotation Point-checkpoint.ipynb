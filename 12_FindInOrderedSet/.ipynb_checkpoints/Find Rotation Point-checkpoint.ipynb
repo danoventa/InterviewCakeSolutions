{
 "cells": [
  {
   "cell_type": "code",
   "execution_count": 41,
   "metadata": {
    "collapsed": false
   },
   "outputs": [
    {
     "name": "stdout",
     "output_type": "stream",
     "text": [
      "['word0', 'word1', 'word2', 'word3', 'word4', 'word5', 'word6', 'word7', 'word8', 'word9', 'word10', 'word11', 'word12', 'word13', 'word14', 'word15', 'word16', 'word17', 'word18', 'word19', 'word20', 'word21', 'word22', 'word23', 'word24', 'word25', 'word26', 'word27', 'word28', 'word29', 'word30', 'word31', 'word32', 'word33', 'word34', 'word35', 'word36', 'word37', 'word38', 'word39', 'word40', 'word41', 'word42', 'word43', 'word44', 'word45', 'word46', 'word47', 'word48', 'word49']\n",
      "50\n"
     ]
    }
   ],
   "source": [
    "words = []\n",
    "\n",
    "for n in range(50):\n",
    "    words.append('word' + str(n))\n",
    "\n",
    "print(words)\n",
    "list_size = len(words)\n",
    "print(list_size)"
   ]
  },
  {
   "cell_type": "code",
   "execution_count": 42,
   "metadata": {
    "collapsed": false
   },
   "outputs": [
    {
     "data": {
      "text/plain": [
       "25"
      ]
     },
     "execution_count": 42,
     "metadata": {},
     "output_type": "execute_result"
    }
   ],
   "source": [
    "list_size // 2"
   ]
  },
  {
   "cell_type": "code",
   "execution_count": 64,
   "metadata": {
    "collapsed": false
   },
   "outputs": [],
   "source": [
    "def word_finder(a_list, target):\n",
    "    \n",
    "    ceiling = len(a_list)\n",
    "    floor = -1\n",
    "    print(target)\n",
    "    while floor+1 < ceiling:\n",
    "        distance = ceiling - floor\n",
    "        half = distance // 2\n",
    "        guess = floor + half\n",
    "        \n",
    "        guess_val = a_list[guess]\n",
    "        print('guess_val: ' + guess_val)\n",
    "        print('ceiling:\\t ' + ceiling)\n",
    "        print('floor:\\t ' + floor)\n",
    "        print('guess_val == target:\\t ' + str(guess_val == target))\n",
    "        print('guess_val <= target:\\t ' + str(guess_val <= target))\n",
    "        if guess_val == target:\n",
    "            return guess_val\n",
    "        \n",
    "        if guess_val <= target:\n",
    "            ceiling = guess\n",
    "            \n",
    "        else: \n",
    "            floor = guess\n",
    "        \n",
    "    return None\n",
    "        \n",
    "        "
   ]
  },
  {
   "cell_type": "code",
   "execution_count": 65,
   "metadata": {
    "collapsed": false
   },
   "outputs": [
    {
     "name": "stdout",
     "output_type": "stream",
     "text": [
      "word4\n",
      "guess_val: word24\n",
      "guess_val == target:\t False\n",
      "guess_val <= target:\t True\n",
      "guess_val: word11\n",
      "guess_val == target:\t False\n",
      "guess_val <= target:\t True\n",
      "guess_val: word5\n",
      "guess_val == target:\t False\n",
      "guess_val <= target:\t False\n",
      "guess_val: word8\n",
      "guess_val == target:\t False\n",
      "guess_val <= target:\t False\n",
      "guess_val: word9\n",
      "guess_val == target:\t False\n",
      "guess_val <= target:\t False\n",
      "guess_val: word10\n",
      "guess_val == target:\t False\n",
      "guess_val <= target:\t True\n",
      "None\n"
     ]
    }
   ],
   "source": [
    "\n",
    "print(word_finder(words, \"word4\"))\n"
   ]
  },
  {
   "cell_type": "code",
   "execution_count": 49,
   "metadata": {
    "collapsed": false
   },
   "outputs": [
    {
     "data": {
      "text/plain": [
       "True"
      ]
     },
     "execution_count": 49,
     "metadata": {},
     "output_type": "execute_result"
    }
   ],
   "source": [
    "\"a\" < \"b\""
   ]
  },
  {
   "cell_type": "code",
   "execution_count": 50,
   "metadata": {
    "collapsed": false
   },
   "outputs": [
    {
     "data": {
      "text/plain": [
       "False"
      ]
     },
     "execution_count": 50,
     "metadata": {},
     "output_type": "execute_result"
    }
   ],
   "source": [
    "\"a\" > \"b\""
   ]
  },
  {
   "cell_type": "code",
   "execution_count": 51,
   "metadata": {
    "collapsed": false
   },
   "outputs": [
    {
     "data": {
      "text/plain": [
       "True"
      ]
     },
     "execution_count": 51,
     "metadata": {},
     "output_type": "execute_result"
    }
   ],
   "source": [
    "'word1' < 'word5'"
   ]
  },
  {
   "cell_type": "code",
   "execution_count": null,
   "metadata": {
    "collapsed": true
   },
   "outputs": [],
   "source": []
  }
 ],
 "metadata": {
  "anaconda-cloud": {},
  "kernelspec": {
   "display_name": "Python [conda root]",
   "language": "python",
   "name": "conda-root-py"
  },
  "language_info": {
   "codemirror_mode": {
    "name": "ipython",
    "version": 3
   },
   "file_extension": ".py",
   "mimetype": "text/x-python",
   "name": "python",
   "nbconvert_exporter": "python",
   "pygments_lexer": "ipython3",
   "version": "3.5.2"
  }
 },
 "nbformat": 4,
 "nbformat_minor": 1
}
