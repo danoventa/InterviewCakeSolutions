{
 "cells": [
  {
   "cell_type": "code",
   "execution_count": 88,
   "metadata": {
    "collapsed": false
   },
   "outputs": [
    {
     "name": "stdout",
     "output_type": "stream",
     "text": [
      "[0, 1, 2, 3, 4, 5, 6, 7, 8, 9, 10, 11, 12, 13, 14, 15, 16, 17, 18, 19, 20, 21, 22, 23, 24, 25, 26, 27, 28, 29, 30, 31, 32, 33, 34, 35, 36, 37, 38, 39, 40, 41, 42, 43, 44, 45, 46, 47, 48, 49]\n",
      "50\n"
     ]
    }
   ],
   "source": [
    "words = []\n",
    "\n",
    "for n in range(50):\n",
    "    words.append(n)\n",
    "\n",
    "print(words)\n",
    "list_size = len(words)\n",
    "print(list_size)"
   ]
  },
  {
   "cell_type": "code",
   "execution_count": 89,
   "metadata": {
    "collapsed": false
   },
   "outputs": [
    {
     "data": {
      "text/plain": [
       "25"
      ]
     },
     "execution_count": 89,
     "metadata": {},
     "output_type": "execute_result"
    }
   ],
   "source": [
    "list_size // 2"
   ]
  },
  {
   "cell_type": "code",
   "execution_count": 99,
   "metadata": {
    "collapsed": false
   },
   "outputs": [],
   "source": [
    "def word_finder(a_list, target):\n",
    "    \n",
    "    ceiling = len(a_list)\n",
    "    floor = -1\n",
    "    print(target)\n",
    "    while floor+1 < ceiling:\n",
    "        distance = ceiling - floor\n",
    "        half = distance // 2\n",
    "        guess = floor + half\n",
    "        \n",
    "        guess_val = a_list[guess]\n",
    "\n",
    "        if guess_val == target:\n",
    "            return guess_val\n",
    "        \n",
    "        if guess_val >= target:\n",
    "            ceiling = guess\n",
    "            \n",
    "        else: \n",
    "            floor = guess\n",
    "        \n",
    "    return None\n",
    "        \n",
    "        "
   ]
  },
  {
   "cell_type": "code",
   "execution_count": 100,
   "metadata": {
    "collapsed": false
   },
   "outputs": [
    {
     "name": "stdout",
     "output_type": "stream",
     "text": [
      "4\n",
      "guess_val:\t 24\n",
      "ceiling:\t 50\n",
      "floor:\t -1\n",
      "24==4=False\n",
      "24<=4=False\n",
      "guess_val:\t 11\n",
      "ceiling:\t 24\n",
      "floor:\t -1\n",
      "11==4=False\n",
      "11<=4=False\n",
      "guess_val:\t 5\n",
      "ceiling:\t 11\n",
      "floor:\t -1\n",
      "5==4=False\n",
      "5<=4=False\n",
      "guess_val:\t 2\n",
      "ceiling:\t 5\n",
      "floor:\t -1\n",
      "2==4=False\n",
      "2<=4=True\n",
      "guess_val:\t 3\n",
      "ceiling:\t 5\n",
      "floor:\t 2\n",
      "3==4=False\n",
      "3<=4=True\n",
      "guess_val:\t 4\n",
      "ceiling:\t 5\n",
      "floor:\t 3\n",
      "4==4=True\n",
      "4<=4=True\n",
      "4\n"
     ]
    }
   ],
   "source": [
    "\n",
    "print(word_finder(words, 4))\n"
   ]
  },
  {
   "cell_type": "code",
   "execution_count": 74,
   "metadata": {
    "collapsed": false
   },
   "outputs": [
    {
     "data": {
      "text/plain": [
       "True"
      ]
     },
     "execution_count": 74,
     "metadata": {},
     "output_type": "execute_result"
    }
   ],
   "source": [
    "\"a1\" < \"a10\""
   ]
  },
  {
   "cell_type": "code",
   "execution_count": 73,
   "metadata": {
    "collapsed": false
   },
   "outputs": [
    {
     "data": {
      "text/plain": [
       "False"
      ]
     },
     "execution_count": 73,
     "metadata": {},
     "output_type": "execute_result"
    }
   ],
   "source": [
    "\"a1\" > \"a10\""
   ]
  },
  {
   "cell_type": "code",
   "execution_count": 51,
   "metadata": {
    "collapsed": false
   },
   "outputs": [
    {
     "data": {
      "text/plain": [
       "True"
      ]
     },
     "execution_count": 51,
     "metadata": {},
     "output_type": "execute_result"
    }
   ],
   "source": [
    "'word1' < 'word5'"
   ]
  },
  {
   "cell_type": "code",
   "execution_count": null,
   "metadata": {
    "collapsed": true
   },
   "outputs": [],
   "source": []
  }
 ],
 "metadata": {
  "anaconda-cloud": {},
  "kernelspec": {
   "display_name": "Python [conda root]",
   "language": "python",
   "name": "conda-root-py"
  },
  "language_info": {
   "codemirror_mode": {
    "name": "ipython",
    "version": 3
   },
   "file_extension": ".py",
   "mimetype": "text/x-python",
   "name": "python",
   "nbconvert_exporter": "python",
   "pygments_lexer": "ipython3",
   "version": "3.5.2"
  }
 },
 "nbformat": 4,
 "nbformat_minor": 1
}
