{
 "cells": [
  {
   "cell_type": "code",
   "execution_count": 115,
   "metadata": {
    "collapsed": false
   },
   "outputs": [
    {
     "name": "stdout",
     "output_type": "stream",
     "text": [
      "[30, 31, 32, 33, 34, 35, 36, 37, 38, 39, 40, 41, 42, 43, 44, 45, 46, 47, 48, 49, 50, 51, 52, 53, 54, 5, 6, 7, 8, 9, 10, 11, 12, 13, 14, 15, 16, 17, 18, 19, 20, 21, 22, 23, 24, 25, 26, 27, 28, 29]\n",
      "50\n"
     ]
    }
   ],
   "source": [
    "words = []\n",
    "\n",
    "for n in range(25):\n",
    "    words.append(n+30)\n",
    "for n in range(25):\n",
    "    words.append(n+5)\n",
    "\n",
    "print(words)\n",
    "list_size = len(words)\n",
    "print(list_size)"
   ]
  },
  {
   "cell_type": "code",
   "execution_count": 116,
   "metadata": {
    "collapsed": false
   },
   "outputs": [
    {
     "data": {
      "text/plain": [
       "25"
      ]
     },
     "execution_count": 116,
     "metadata": {},
     "output_type": "execute_result"
    }
   ],
   "source": [
    "list_size // 2"
   ]
  },
  {
   "cell_type": "code",
   "execution_count": 117,
   "metadata": {
    "collapsed": false
   },
   "outputs": [],
   "source": [
    "def next_index(al, curr):\n",
    "    if len(al) >= curr:\n",
    "        return 0\n",
    "    return curr + 1\n",
    "\n",
    "def prev_index(al, curr):\n",
    "    if curr -1 <= 0:\n",
    "        return len(al-1)\n",
    "    else:\n",
    "        return curr - 1    \n",
    "\n",
    "def word_finder(a_list):\n",
    "    \n",
    "    ceiling = len(a_list)\n",
    "    floor = -1\n",
    "    while floor+1 < ceiling:\n",
    "        distance = ceiling - floor\n",
    "        half = distance // 2\n",
    "        guess = floor + half\n",
    "        \n",
    "        guess_val = a_list[guess]\n",
    "\n",
    "        if a_list[prev_index(a_list, guess)] > guess_val < a_list[next_index(a_list, guess)]:\n",
    "            return guess_val\n",
    "        \n",
    "        if a_list[prev_index(a_list, guess)] < guess_val < a_list[next_index(a_list, guess)]:\n",
    "            ceiling = guess\n",
    "            \n",
    "        else: \n",
    "            floor = guess\n",
    "        \n",
    "    return None\n",
    "        \n",
    "        "
   ]
  },
  {
   "cell_type": "code",
   "execution_count": 118,
   "metadata": {
    "collapsed": false
   },
   "outputs": [
    {
     "name": "stdout",
     "output_type": "stream",
     "text": [
      "5\n"
     ]
    }
   ],
   "source": [
    "\n",
    "print(word_finder(words))\n"
   ]
  },
  {
   "cell_type": "code",
   "execution_count": 74,
   "metadata": {
    "collapsed": false
   },
   "outputs": [
    {
     "data": {
      "text/plain": [
       "True"
      ]
     },
     "execution_count": 74,
     "metadata": {},
     "output_type": "execute_result"
    }
   ],
   "source": [
    "\"a1\" < \"a10\""
   ]
  },
  {
   "cell_type": "code",
   "execution_count": 73,
   "metadata": {
    "collapsed": false
   },
   "outputs": [
    {
     "data": {
      "text/plain": [
       "False"
      ]
     },
     "execution_count": 73,
     "metadata": {},
     "output_type": "execute_result"
    }
   ],
   "source": [
    "\"a1\" > \"a10\""
   ]
  },
  {
   "cell_type": "code",
   "execution_count": 51,
   "metadata": {
    "collapsed": false
   },
   "outputs": [
    {
     "data": {
      "text/plain": [
       "True"
      ]
     },
     "execution_count": 51,
     "metadata": {},
     "output_type": "execute_result"
    }
   ],
   "source": [
    "'word1' < 'word5'"
   ]
  },
  {
   "cell_type": "code",
   "execution_count": null,
   "metadata": {
    "collapsed": true
   },
   "outputs": [],
   "source": []
  }
 ],
 "metadata": {
  "anaconda-cloud": {},
  "kernelspec": {
   "display_name": "Python [conda root]",
   "language": "python",
   "name": "conda-root-py"
  },
  "language_info": {
   "codemirror_mode": {
    "name": "ipython",
    "version": 3
   },
   "file_extension": ".py",
   "mimetype": "text/x-python",
   "name": "python",
   "nbconvert_exporter": "python",
   "pygments_lexer": "ipython3",
   "version": "3.5.2"
  }
 },
 "nbformat": 4,
 "nbformat_minor": 1
}
