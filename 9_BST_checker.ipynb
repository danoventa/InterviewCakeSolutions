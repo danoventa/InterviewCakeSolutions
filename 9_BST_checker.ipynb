{
 "cells": [
  {
   "cell_type": "code",
   "execution_count": 1,
   "metadata": {
    "collapsed": true
   },
   "outputs": [],
   "source": [
    "  class BinaryTreeNode:\n",
    "\n",
    "    def __init__(self, value):\n",
    "        self.value = value\n",
    "        self.left  = None\n",
    "        self.right = None\n",
    "\n",
    "    def insert_left(self, value):\n",
    "        self.left = BinaryTreeNode(value)\n",
    "        return self.left\n",
    "\n",
    "    def insert_right(self, value):\n",
    "        self.right = BinaryTreeNode(value)\n",
    "        return self.right"
   ]
  },
  {
   "cell_type": "code",
   "execution_count": 41,
   "metadata": {
    "collapsed": false
   },
   "outputs": [],
   "source": [
    "from collections import defaultdict\n",
    "\n",
    "def BSTChecker(node):\n",
    "    return BSTCheckerz(node, defaultdict(int))\n",
    "    \n",
    "def BSTCheckerz(node, dic):\n",
    "    print(node.value)\n",
    "    print(node.left)\n",
    "    print(node.right)\n",
    "    print(node == None)\n",
    "    if node.left == None and node.right:\n",
    "        print(\"TRue\")\n",
    "        return True\n",
    "    else:\n",
    "        if node.left != None:\n",
    "            if node.left.value < node.value :\n",
    "                return BSTCheckerz(node.left, dic)\n",
    "            else: \n",
    "                print(\"FALSE\")\n",
    "                return False\n",
    "        if node.right != None:\n",
    "            if node.right.value > node.value :\n",
    "                return BSTCheckerz(node.right, dic)\n",
    "            else: \n",
    "                print(\"False\")\n",
    "                return False"
   ]
  },
  {
   "cell_type": "code",
   "execution_count": 42,
   "metadata": {
    "collapsed": false
   },
   "outputs": [
    {
     "name": "stdout",
     "output_type": "stream",
     "text": [
      "3\n",
      "<__main__.BinaryTreeNode object at 0x106c3da90>\n",
      "<__main__.BinaryTreeNode object at 0x106c3d828>\n",
      "False\n",
      "2\n",
      "None\n",
      "None\n",
      "False\n",
      "None\n"
     ]
    }
   ],
   "source": [
    "b = BinaryTreeNode(3)\n",
    "b.insert_left(2)\n",
    "b.insert_right(4)\n",
    "print(BSTChecker(b))"
   ]
  },
  {
   "cell_type": "code",
   "execution_count": null,
   "metadata": {
    "collapsed": true
   },
   "outputs": [],
   "source": []
  },
  {
   "cell_type": "code",
   "execution_count": null,
   "metadata": {
    "collapsed": true
   },
   "outputs": [],
   "source": []
  },
  {
   "cell_type": "code",
   "execution_count": null,
   "metadata": {
    "collapsed": true
   },
   "outputs": [],
   "source": []
  },
  {
   "cell_type": "code",
   "execution_count": null,
   "metadata": {
    "collapsed": true
   },
   "outputs": [],
   "source": []
  }
 ],
 "metadata": {
  "anaconda-cloud": {},
  "kernelspec": {
   "display_name": "Python [conda root]",
   "language": "python",
   "name": "conda-root-py"
  },
  "language_info": {
   "codemirror_mode": {
    "name": "ipython",
    "version": 3
   },
   "file_extension": ".py",
   "mimetype": "text/x-python",
   "name": "python",
   "nbconvert_exporter": "python",
   "pygments_lexer": "ipython3",
   "version": "3.5.2"
  }
 },
 "nbformat": 4,
 "nbformat_minor": 1
}
