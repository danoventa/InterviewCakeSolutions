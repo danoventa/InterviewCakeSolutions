{
 "cells": [
  {
   "cell_type": "code",
   "execution_count": 10,
   "metadata": {
    "collapsed": false
   },
   "outputs": [],
   "source": [
    "def get_products_of_all_ints_except_at_index_brute(numbers):\n",
    "    # take list of numbers, and expect them to be the product of all others except for that one\n",
    "    # if mult by 1, don't count\n",
    "    # if zero all zero\n",
    "    # brute force\n",
    "    products = []\n",
    "    \n",
    "    for i in range(len(numbers)):\n",
    "        products.append(1)\n",
    "        for n in range(len(numbers)):\n",
    "            if n != i:\n",
    "                products[i] *= numbers[n]\n",
    "                \n",
    "    print(products)    "
   ]
  },
  {
   "cell_type": "code",
   "execution_count": 12,
   "metadata": {
    "collapsed": false
   },
   "outputs": [
    {
     "name": "stdout",
     "output_type": "stream",
     "text": [
      "[24, 0, 0, 0]\n"
     ]
    }
   ],
   "source": [
    "get_products_of_all_ints_except_at_index_brute([0, 2, 3, 4])"
   ]
  },
  {
   "cell_type": "code",
   "execution_count": null,
   "metadata": {
    "collapsed": true
   },
   "outputs": [],
   "source": [
    "def get_products_of_all_ints_except_at_index_smarter(numbers):\n",
    "    "
   ]
  }
 ],
 "metadata": {
  "anaconda-cloud": {},
  "kernelspec": {
   "display_name": "Python [conda root]",
   "language": "python",
   "name": "conda-root-py"
  },
  "language_info": {
   "codemirror_mode": {
    "name": "ipython",
    "version": 3
   },
   "file_extension": ".py",
   "mimetype": "text/x-python",
   "name": "python",
   "nbconvert_exporter": "python",
   "pygments_lexer": "ipython3",
   "version": "3.5.2"
  }
 },
 "nbformat": 4,
 "nbformat_minor": 1
}
