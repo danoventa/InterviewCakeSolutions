{
 "cells": [
  {
   "cell_type": "code",
   "execution_count": 163,
   "metadata": {
    "collapsed": false
   },
   "outputs": [],
   "source": [
    "from random import randrange\n",
    "\n",
    "def get_random_ints_list():\n",
    "    length = randrange(50)\n",
    "    output = []\n",
    "    for _ in range(length):\n",
    "        output.append(randrange(50))\n",
    "        \n",
    "    return output\n",
    "\n",
    "num_tests = 10\n",
    "test_lists = []\n",
    "for _ in range(num_tests):\n",
    "    test_lists.append(get_random_ints_list())\n",
    "    \n",
    "def execute_tests(test_list, func):\n",
    "    ret_results = []\n",
    "    for i in range(len(test_list)):\n",
    "        ret_results.append(func(test_list[i]))"
   ]
  },
  {
   "cell_type": "code",
   "execution_count": 148,
   "metadata": {
    "collapsed": false
   },
   "outputs": [],
   "source": [
    "def get_products_of_all_ints_except_at_index_brute(numbers):\n",
    "    products = []\n",
    "    \n",
    "    for i in range(len(numbers)):\n",
    "        products.append(1)\n",
    "        for n in range(len(numbers)):\n",
    "            if n != i:\n",
    "                products[i] *= numbers[n]\n",
    "                \n",
    "    return products    "
   ]
  },
  {
   "cell_type": "code",
   "execution_count": 149,
   "metadata": {
    "collapsed": false
   },
   "outputs": [
    {
     "name": "stdout",
     "output_type": "stream",
     "text": [
      "100000 loops, best of 3: 18.9 µs per loop\n",
      "10000 loops, best of 3: 19.4 µs per loop\n"
     ]
    }
   ],
   "source": []
  },
  {
   "cell_type": "code",
   "execution_count": 150,
   "metadata": {
    "collapsed": false
   },
   "outputs": [],
   "source": [
    "def get_products_of_all_ints_except_at_index_smarter(numbers):\n",
    "    before = []\n",
    "    leng = len(numbers)\n",
    "    after = [1] * leng\n",
    "    final = []\n",
    "    for i in range(len(numbers)):\n",
    "        if i > 0:\n",
    "            before.append(numbers[i-1] * before[i-1])\n",
    "            after[leng - 1 - i] = numbers[leng - i] * after[leng - i]\n",
    "        else:\n",
    "            after[leng-1] = 1\n",
    "            before.append(1)   \n",
    "        \n",
    "        \n",
    "    for i in range(leng):\n",
    "        final.append(after[i] * before[i])\n",
    "        \n",
    "    return final"
   ]
  },
  {
   "cell_type": "code",
   "execution_count": 151,
   "metadata": {
    "collapsed": false
   },
   "outputs": [
    {
     "name": "stdout",
     "output_type": "stream",
     "text": [
      "100000 loops, best of 3: 7.51 µs per loop\n"
     ]
    }
   ],
   "source": []
  },
  {
   "cell_type": "code",
   "execution_count": 120,
   "metadata": {
    "collapsed": true
   },
   "outputs": [],
   "source": [
    "# still memory intensive, there's another technique used, wich is doing the multiplication. "
   ]
  },
  {
   "cell_type": "code",
   "execution_count": 152,
   "metadata": {
    "collapsed": false
   },
   "outputs": [],
   "source": [
    "def get_products_of_all_ints_except_at_index_optimized(numbers):\n",
    "    product = []\n",
    "    leng = len(numbers)\n",
    "    for i in range(len(numbers)):\n",
    "        if i > 0:\n",
    "            product.append(numbers[i-1] * product[i-1])\n",
    "        else:\n",
    "            product.append(1)   \n",
    "    \n",
    "    tracker = 1\n",
    "    for i in range(leng):\n",
    "        product[leng - 1 - i] *= tracker\n",
    "        tracker *= numbers[leng - 1 - i]\n",
    "        \n",
    "    return product"
   ]
  },
  {
   "cell_type": "code",
   "execution_count": 153,
   "metadata": {
    "collapsed": false
   },
   "outputs": [
    {
     "name": "stdout",
     "output_type": "stream",
     "text": [
      "100000 loops, best of 3: 5.28 µs per loop\n"
     ]
    }
   ],
   "source": [
    "%timeit get_products_of_all_ints_except_at_index_optimized([2, 4, 6, 10, 11, 23, 3, 2, 1, 5, 6])"
   ]
  },
  {
   "cell_type": "code",
   "execution_count": 164,
   "metadata": {
    "collapsed": false
   },
   "outputs": [
    {
     "name": "stdout",
     "output_type": "stream",
     "text": [
      "Test Brute Force\n",
      "100 loops, best of 3: 1.94 ms per loop\n",
      "Greedy\n",
      "1000 loops, best of 3: 208 µs per loop\n",
      "Optimized\n",
      "10000 loops, best of 3: 153 µs per loop\n"
     ]
    }
   ],
   "source": [
    "print(\"Test Brute Force\")\n",
    "%timeit execute_tests(test_lists, get_products_of_all_ints_except_at_index_brute)\n",
    "\n",
    "\n",
    "print(\"Greedy\")\n",
    "%timeit execute_tests(test_lists, get_products_of_all_ints_except_at_index_smarter)\n",
    "\n",
    "\n",
    "print(\"Optimized\")\n",
    "%timeit execute_tests(test_lists, get_products_of_all_ints_except_at_index_optimized)\n"
   ]
  },
  {
   "cell_type": "code",
   "execution_count": 161,
   "metadata": {
    "collapsed": false
   },
   "outputs": [
    {
     "name": "stdout",
     "output_type": "stream",
     "text": [
      "[10929600, 5464800, 3643200, 2185920, 1987200, 950400, 7286400, 10929600, 21859200, 4371840, 3643200]\n",
      "[10929600, 5464800, 3643200, 2185920, 1987200, 950400, 7286400, 10929600, 21859200, 4371840, 3643200]\n",
      "[10929600, 5464800, 3643200, 2185920, 1987200, 950400, 7286400, 10929600, 21859200, 4371840, 3643200]\n"
     ]
    }
   ],
   "source": [
    "print(get_products_of_all_ints_except_at_index_brute([2, 4, 6, 10, 11, 23, 3, 2, 1, 5, 6]))\n",
    "print(get_products_of_all_ints_except_at_index_smarter([2, 4, 6, 10, 11, 23, 3, 2, 1, 5, 6]))\n",
    "print(get_products_of_all_ints_except_at_index_optimized([2, 4, 6, 10, 11, 23, 3, 2, 1, 5, 6]))"
   ]
  },
  {
   "cell_type": "code",
   "execution_count": 162,
   "metadata": {
    "collapsed": false
   },
   "outputs": [
    {
     "name": "stdout",
     "output_type": "stream",
     "text": [
      "[0, 5464800, 0, 0, 0, 0, 0, 0, 0, 0, 0]\n",
      "[0, 5464800, 0, 0, 0, 0, 0, 0, 0, 0, 0]\n",
      "[0, 5464800, 0, 0, 0, 0, 0, 0, 0, 0, 0]\n"
     ]
    }
   ],
   "source": [
    "print(get_products_of_all_ints_except_at_index_brute([2, 0, 6, 10, 11, 23, 3, 2, 1, 5, 6]))\n",
    "print(get_products_of_all_ints_except_at_index_smarter([2, 0, 6, 10, 11, 23, 3, 2, 1, 5, 6]))\n",
    "print(get_products_of_all_ints_except_at_index_optimized([2, 0, 6, 10, 11, 23, 3, 2, 1, 5, 6]))"
   ]
  },
  {
   "cell_type": "code",
   "execution_count": null,
   "metadata": {
    "collapsed": true
   },
   "outputs": [],
   "source": []
  }
 ],
 "metadata": {
  "anaconda-cloud": {},
  "kernelspec": {
   "display_name": "Python [conda root]",
   "language": "python",
   "name": "conda-root-py"
  },
  "language_info": {
   "codemirror_mode": {
    "name": "ipython",
    "version": 3
   },
   "file_extension": ".py",
   "mimetype": "text/x-python",
   "name": "python",
   "nbconvert_exporter": "python",
   "pygments_lexer": "ipython3",
   "version": "3.5.2"
  }
 },
 "nbformat": 4,
 "nbformat_minor": 1
}
